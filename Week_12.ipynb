{
  "nbformat": 4,
  "nbformat_minor": 0,
  "metadata": {
    "colab": {
      "name": "Week 12.ipynb",
      "provenance": [],
      "authorship_tag": "ABX9TyOwuHJOUMFBuP5egcEQlOw4",
      "include_colab_link": true
    },
    "kernelspec": {
      "name": "python3",
      "display_name": "Python 3"
    },
    "language_info": {
      "name": "python"
    }
  },
  "cells": [
    {
      "cell_type": "markdown",
      "metadata": {
        "id": "view-in-github",
        "colab_type": "text"
      },
      "source": [
        "<a href=\"https://colab.research.google.com/github/AimanAminuddin/Variational-Inference-/blob/main/Week_12.ipynb\" target=\"_parent\"><img src=\"https://colab.research.google.com/assets/colab-badge.svg\" alt=\"Open In Colab\"/></a>"
      ]
    },
    {
      "cell_type": "code",
      "execution_count": 1,
      "metadata": {
        "id": "NV9HzViwf_Ss"
      },
      "outputs": [],
      "source": [
        "import jax \n",
        "from jax.config import config\n",
        "config.update('jax_enable_x64', True)  # often needed for LBFGS that requires high-precision\n",
        "\n",
        "\n",
        "import jax.numpy as jnp\n",
        "import jax.nn\n",
        "import numpy as np\n",
        "import pylab as plt"
      ]
    },
    {
      "cell_type": "markdown",
      "source": [
        "# Exercise: REINFORCE Gradients\n",
        "\n",
        "Consider the function $L(\\lambda) = \\int F(\\lambda, \\theta) \\, q_\\lambda(\\theta) \\, d \\theta $ where $q_{\\lambda}$ refers to a parametric family of distributions Prove that:\n",
        "\n",
        "$$\\nabla_\\lambda L(\\lambda) =\n",
        "\\int \\nabla_\\lambda F(\\lambda, \\theta)  \\, q_\\lambda(\\theta) d \\theta + \\int F(\\lambda, \\theta) \\, \\nabla_\\lambda \\log[q_{\\lambda}(\\theta)]  \\, q_\\lambda(\\theta) d \\theta$$"
      ],
      "metadata": {
        "id": "dbvLZjV3gITL"
      }
    },
    {
      "cell_type": "markdown",
      "source": [
        "Observe that \n",
        "\\begin{equation}\n",
        "    \\nabla_{\\lambda}q_{\\lambda}(\\theta) = \\frac{\\nabla_{\\lambda}q_{\\lambda}(\\theta)}{q_{\\lambda}(\\theta)}q_{\\lambda}(\\theta) = \\nabla \\log[q_{\\lambda}(\\theta)]q_{\\lambda}(\\theta) \n",
        "\\end{equation}\n",
        "It is easy to see that \n",
        "\\begin{align}\n",
        "    \\nabla_{\\lambda}L(\\lambda) &= \\nabla_{\\lambda}\\int F(\\lambda,\\theta)q_{\\lambda}(\\theta)d\\theta \\\\ \n",
        "    &= \\int \\nabla_{\\lambda}\\left[F(\\lambda,\\theta)q_{\\lambda}(\\theta)\\right] d\\theta \\\\ \n",
        "    &= \\int \\nabla_{\\lambda} F(\\lambda,\\theta) q_{\\lambda}(\\theta) d\\theta + \\int F(\\lambda,\\theta)\\nabla_{\\lambda}q_{\\lambda}(\\theta)d\\theta \\\\ \n",
        "    &= \\int \\nabla_{\\lambda} F(\\lambda,\\theta) q_{\\lambda}(\\theta) d\\theta + \\int F(\\lambda,\\theta)\\nabla_{\\lambda} \\log[q_{\\lambda}(\\theta)]q_{\\lambda}(\\theta) d\\theta\n",
        "\\end{align}\n",
        "by Leibniz rule and chain rule. "
      ],
      "metadata": {
        "id": "re4pN5l-gLW6"
      }
    },
    {
      "cell_type": "markdown",
      "source": [
        "# Exercise: Property of the score function\n",
        "\n",
        "The quantity $\\nabla_\\lambda \\log[q_{\\lambda}(\\theta)]$ is often called the score function. Prove that:\n",
        "\n",
        "$$ \\int \\nabla_\\lambda \\log[q_{\\lambda}(\\theta)]  \\, q_\\lambda(\\theta) d \\theta = 0$$\n"
      ],
      "metadata": {
        "id": "jLWI0h-qgnhb"
      }
    },
    {
      "cell_type": "markdown",
      "source": [
        "Observe that \n",
        "\\begin{equation}\n",
        " \\int \\nabla_{\\lambda}\\log[q_{\\lambda}(\\theta)]q_{\\lambda}(\\theta)d\\theta = \\int \\nabla_{\\lambda}q_{\\lambda}(\\theta)d\\theta = \\nabla_{\\lambda} \\int q_{\\lambda}(\\theta)d\\theta = \\nabla 1 = 0 \n",
        "\\end{equation}"
      ],
      "metadata": {
        "id": "nsosVs3ygoIY"
      }
    },
    {
      "cell_type": "markdown",
      "source": [
        "# Exercise: Variational Inference\n",
        "\n",
        "Use Variational inference and REINFORCE gradidents to find a Gaussian approximation of the density $\\pi(x)$ defined as\n",
        "\n",
        "$$\n",
        "\\pi(x) = \\frac{ \\exp[ -x^2 + \\sin(20 \\, x) / 2 ] }{Z}\n",
        "$$\n",
        "\n",
        "where $Z>0$ is an unkown normalization constant."
      ],
      "metadata": {
        "id": "brSCnGmRg1c3"
      }
    },
    {
      "cell_type": "code",
      "source": [
        "def log_p(x):\n",
        "    alpha = 0.5\n",
        "    return -x**2 + alpha * jnp.sin(20*x)\n",
        "\n",
        "N = 1000\n",
        "x_arr = np.linspace(-5,5,N)\n",
        "y_arr = np.exp(log_p(x_arr))\n",
        "plt.plot(x_arr, y_arr)\n",
        "plt.grid(True)"
      ],
      "metadata": {
        "colab": {
          "base_uri": "https://localhost:8080/",
          "height": 282
        },
        "id": "QqPbLrtwg5Z3",
        "outputId": "6cb229d7-3e75-4f12-c0da-e95ec84a5040"
      },
      "execution_count": 2,
      "outputs": [
        {
          "output_type": "stream",
          "name": "stderr",
          "text": [
            "WARNING:absl:No GPU/TPU found, falling back to CPU. (Set TF_CPP_MIN_LOG_LEVEL=0 and rerun for more info.)\n"
          ]
        },
        {
          "output_type": "display_data",
          "data": {
            "text/plain": [
              "<Figure size 432x288 with 1 Axes>"
            ],
            "image/png": "[encoded data removed]"
          },
          "metadata": {
            "needs_background": "light"
          }
        }
      ]
    },
    {
      "cell_type": "markdown",
      "source": [
        "The Gaussian Density function is \n",
        "\\begin{equation}\n",
        "f(x) = \\frac{1}{\\sqrt{2\\pi\\sigma^{2}}}e^{-\\frac{(x-\\mu)^{2}}{2\\sigma^{2}}}\n",
        "\\end{equation}"
      ],
      "metadata": {
        "id": "s3KCmgpbK0J1"
      }
    },
    {
      "cell_type": "code",
      "source": [
        "# lof of Gaussian Approximating Density \n",
        "# we calculate log std as numbers generated from np.random can be negative\n",
        "\n",
        "def log_q(lst,x):\n",
        "  # lst comtains mean,log_std \n",
        "  mu,log_std = lst[0],lst[1] \n",
        "  std = jnp.exp(log_std)\n",
        "  return -(x-mu) ** 2/(2 * (std ** 2))-0.5 * jnp.log(2*jnp.pi*(std ** 2))\n",
        "\n",
        "def generate_samples(lst,N):\n",
        "  mu,log_std = lst[0],lst[1]\n",
        "  std = jnp.exp(log_std)\n",
        "  return mu + std * np.random.normal(0,1,N)"
      ],
      "metadata": {
        "id": "HwrTo6EpLVG1"
      },
      "execution_count": 3,
      "outputs": []
    },
    {
      "cell_type": "code",
      "source": [
        "# vmap everything to use with batch of samples \n",
        "log_q_batch = jax.vmap(log_q, in_axes=(None,0))\n",
        "log_q_grad = jax.grad(log_q)\n",
        "log_q_grad_batch = jax.vmap(log_q_grad, in_axes=(None,0))"
      ],
      "metadata": {
        "id": "1xBon4OBttKd"
      },
      "execution_count": 4,
      "outputs": []
    },
    {
      "cell_type": "markdown",
      "source": [
        "We want to minimize $L(\\lambda) = \\int F(\\lambda,\\theta)q_{\\lambda}(x)dx $"
      ],
      "metadata": {
        "id": "NERBmhF9lr7j"
      }
    },
    {
      "cell_type": "code",
      "source": [
        "def F(lst,x):\n",
        "  # 1/n F(lambda,x) approximately equal to E[F(lambda,x)]\n",
        "  return log_q(lst,x)-log_p(x)\n",
        "\n",
        "# vmap everything to use with batch of samples \n",
        "F_batch = jax.vmap(F,in_axes = (None,0))\n",
        "F_grad = jax.grad(F)\n",
        "F_grad_batch = jax.vmap(F_grad,in_axes = (None,0))"
      ],
      "metadata": {
        "id": "wvzbID1OM-R9"
      },
      "execution_count": 5,
      "outputs": []
    },
    {
      "cell_type": "code",
      "source": [
        "@jax.jit \n",
        "def reinforce(lamb,N,xs):\n",
        "  # compute a reinforce gradient of the loss function \n",
        "  # loss = \\integral F(lambda,x) * q_l(x)dx \n",
        "  Fs = F_batch(lamb,xs)\n",
        "  F_gradients = F_grad_batch(lamb,xs)\n",
        "  log_q_gradients = log_q_grad_batch(lamb,xs)\n",
        "  g0 = jnp.mean(F_gradients,axis = 0)\n",
        "  # multiply each Fs to gradient appropriately using [:,None]\n",
        "  g1 = jnp.mean(Fs[:,None] * log_q_gradients,axis = 0)\n",
        "  grad_reinforce = g0 + g1 \n",
        "  \n",
        "  return grad_reinforce"
      ],
      "metadata": {
        "id": "WZMJupQ1r5ch"
      },
      "execution_count": 6,
      "outputs": []
    },
    {
      "cell_type": "code",
      "source": [
        "lamb_init = np.array([5., -2.])\n",
        "N_samples = 100"
      ],
      "metadata": {
        "id": "60hn2acTuI8K"
      },
      "execution_count": 7,
      "outputs": []
    },
    {
      "cell_type": "code",
      "source": [
        "lamb = np.copy(lamb_init)"
      ],
      "metadata": {
        "id": "HecOexGSyx_v"
      },
      "execution_count": 8,
      "outputs": []
    },
    {
      "cell_type": "code",
      "source": [
        "N_samples = 1000\n",
        "learning_rate = 0.04\n",
        "niter = 100\n",
        "lamb = np.copy(lamb_init)\n",
        "loss_history = []\n",
        "lambda_history = []\n",
        "\n",
        "for _ in range(niter):\n",
        "  xs = generate_samples(lamb,N_samples)\n",
        "  # item() extract value from jax array \n",
        "  value = jnp.mean(F_batch(lamb,xs)).item()\n",
        "  gradient = reinforce(lamb,N_samples,xs) \n",
        "  lamb -=  gradient * learning_rate \n",
        "  loss_history.append(value) \n",
        "  lambda_history.append(np.array(lamb))"
      ],
      "metadata": {
        "id": "cSJ7S5GUvAG8"
      },
      "execution_count": 30,
      "outputs": []
    },
    {
      "cell_type": "code",
      "source": [
        "print(loss_history) # using approximated estimate, in reality shouldnt fall below 0 "
      ],
      "metadata": {
        "colab": {
          "base_uri": "https://localhost:8080/"
        },
        "id": "9MB0rO67LouJ",
        "outputId": "d13d6330-643a-455e-9ff0-5f208bf30ed1"
      },
      "execution_count": 31,
      "outputs": [
        {
          "output_type": "stream",
          "name": "stdout",
          "text": [
            "[25.619239335942762, 20.92511643352573, 16.582072483947243, 12.626776347258664, 10.880284539931509, 9.115180850560638, 7.585428932842801, 6.117952075407753, 5.033612737992933, 4.195544201814329, 3.6244390706641907, 3.046965358389082, 2.5927486169529574, 2.21400346176851, 1.8002267790532465, 1.5641262151665882, 1.310384087543071, 1.1056560313376902, 0.9620032476381908, 0.8177626105490214, 0.6073668620606676, 0.5265591042836775, 0.37512891021522643, 0.2860847421361142, 0.21973737457520864, 0.17852745878412782, 0.07464223899467484, 0.0037699175505117285, -0.054800237504379117, -0.1262804799266291, -0.1502775443105187, -0.216302190387571, -0.20724272660131465, -0.23133794207835787, -0.3134281993506221, -0.3450687986333869, -0.3552101771475145, -0.43465515907543895, -0.3774121357611423, -0.4335347089384265, -0.4262421223108658, -0.46561311515744325, -0.4860413441584921, -0.48978456364033945, -0.49593547814933586, -0.5066555291089703, -0.5418466951736193, -0.519676786247399, -0.5139237648444179, -0.5282109372535183, -0.5473134626385068, -0.5410818008726765, -0.5515320418605709, -0.5492487202571785, -0.5325656301413231, -0.5504192861172499, -0.5371878118852303, -0.5612758568952073, -0.5651246213237425, -0.5697173013455888, -0.5674943051442988, -0.5440946472341162, -0.547250454629081, -0.5444140129708471, -0.568164023833889, -0.551980371513969, -0.5721846243064075, -0.5668571736009853, -0.5694200797781102, -0.5683302960770489, -0.5730566914481063, -0.5820124243416415, -0.5662279405776555, -0.5845787366014672, -0.566890412122543, -0.5781432587270583, -0.5895082612674426, -0.5479281481657766, -0.5760372829757742, -0.575388523288784, -0.5753417917868553, -0.5621894758509652, -0.5931391999124367, -0.588163646844728, -0.5646345062426195, -0.5736429068648866, -0.584972723574763, -0.5727982327730939, -0.5759115772033533, -0.563495381649082, -0.5786767612076369, -0.5913142155028037, -0.5856052004932486, -0.5595134476040378, -0.5728464012402364, -0.570149004104794, -0.5896720641785826, -0.5826691009643448, -0.570792468825259, -0.5925808849213301]\n"
          ]
        }
      ]
    },
    {
      "cell_type": "code",
      "source": [
        "plt.plot(loss_history)\n",
        "plt.xlabel(\"iteration\")\n",
        "plt.ylabel(\"loss\")\n",
        "plt.grid(True)"
      ],
      "metadata": {
        "colab": {
          "base_uri": "https://localhost:8080/",
          "height": 279
        },
        "id": "1dJIGLnQ1zt7",
        "outputId": "7d6b8b7d-7518-4642-dad7-9ebc38aa1d6b"
      },
      "execution_count": 32,
      "outputs": [
        {
          "output_type": "display_data",
          "data": {
            "text/plain": [
              "<Figure size 432x288 with 1 Axes>"
            ],
            "image/png": "[encoded data removed]"
          },
          "metadata": {
            "needs_background": "light"
          }
        }
      ]
    },
    {
      "cell_type": "code",
      "source": [
        "# Draw approximated Gaussian Distribution against true distribution \n",
        "N = 1000 \n",
        "x_arr = np.linspace(-3,3,N)\n",
        "dx = x_arr[1] - x_arr[0]\n",
        "y_arr = np.exp(log_p(x_arr))\n",
        "lamb = lambda_history[-1]\n",
        "Z = dx * np.sum(y_arr)\n",
        "y_arr = y_arr / Z\n",
        "\n",
        "# Posterior Distribution \n",
        "plt.fill_between(x_arr,y_arr,[0 for _ in y_arr],alpha = 0.5,color = \"blue\",label = \"Posterior Distribution\")\n",
        "\n",
        "\n",
        "# Variational Approximation \n",
        "q_arr = np.exp(log_q_batch(lamb,x_arr))\n",
        "plt.fill_between(x_arr,q_arr,[0 for _ in q_arr],alpha = 0.5,color = \"green\",label = \"Variational Approximation\")\n"
      ],
      "metadata": {
        "colab": {
          "base_uri": "https://localhost:8080/",
          "height": 282
        },
        "id": "wiukqC1yMff8",
        "outputId": "a2f48371-821f-48d3-f9c5-80365ad2b5fa"
      },
      "execution_count": 35,
      "outputs": [
        {
          "output_type": "execute_result",
          "data": {
            "text/plain": [
              "<matplotlib.collections.PolyCollection at 0x7f9a02c73c50>"
            ]
          },
          "metadata": {},
          "execution_count": 35
        },
        {
          "output_type": "display_data",
          "data": {
            "text/plain": [
              "<Figure size 432x288 with 1 Axes>"
            ],
            "image/png": "[encoded data removed]"
          },
          "metadata": {
            "needs_background": "light"
          }
        }
      ]
    }
  ]
}